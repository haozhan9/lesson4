{
 "cells": [
  {
   "cell_type": "code",
   "execution_count": 2,
   "metadata": {
    "scrolled": true
   },
   "outputs": [
    {
     "data": {
      "text/html": [
       "<div>\n",
       "<style>\n",
       "    .dataframe thead tr:only-child th {\n",
       "        text-align: right;\n",
       "    }\n",
       "\n",
       "    .dataframe thead th {\n",
       "        text-align: left;\n",
       "    }\n",
       "\n",
       "    .dataframe tbody tr th {\n",
       "        vertical-align: top;\n",
       "    }\n",
       "</style>\n",
       "<table border=\"1\" class=\"dataframe\">\n",
       "  <thead>\n",
       "    <tr style=\"text-align: right;\">\n",
       "      <th></th>\n",
       "      <th>PassengerId</th>\n",
       "      <th>Survived</th>\n",
       "      <th>Pclass</th>\n",
       "      <th>Name</th>\n",
       "      <th>Sex</th>\n",
       "      <th>Age</th>\n",
       "      <th>SibSp</th>\n",
       "      <th>Parch</th>\n",
       "      <th>Ticket</th>\n",
       "      <th>Fare</th>\n",
       "      <th>Cabin</th>\n",
       "      <th>Embarked</th>\n",
       "    </tr>\n",
       "  </thead>\n",
       "  <tbody>\n",
       "    <tr>\n",
       "      <th>0</th>\n",
       "      <td>1</td>\n",
       "      <td>0</td>\n",
       "      <td>3</td>\n",
       "      <td>Braund, Mr. Owen Harris</td>\n",
       "      <td>male</td>\n",
       "      <td>22.0</td>\n",
       "      <td>1</td>\n",
       "      <td>0</td>\n",
       "      <td>A/5 21171</td>\n",
       "      <td>7.2500</td>\n",
       "      <td>NaN</td>\n",
       "      <td>S</td>\n",
       "    </tr>\n",
       "    <tr>\n",
       "      <th>1</th>\n",
       "      <td>2</td>\n",
       "      <td>1</td>\n",
       "      <td>1</td>\n",
       "      <td>Cumings, Mrs. John Bradley (Florence Briggs Th...</td>\n",
       "      <td>female</td>\n",
       "      <td>38.0</td>\n",
       "      <td>1</td>\n",
       "      <td>0</td>\n",
       "      <td>PC 17599</td>\n",
       "      <td>71.2833</td>\n",
       "      <td>C85</td>\n",
       "      <td>C</td>\n",
       "    </tr>\n",
       "    <tr>\n",
       "      <th>2</th>\n",
       "      <td>3</td>\n",
       "      <td>1</td>\n",
       "      <td>3</td>\n",
       "      <td>Heikkinen, Miss. Laina</td>\n",
       "      <td>female</td>\n",
       "      <td>26.0</td>\n",
       "      <td>0</td>\n",
       "      <td>0</td>\n",
       "      <td>STON/O2. 3101282</td>\n",
       "      <td>7.9250</td>\n",
       "      <td>NaN</td>\n",
       "      <td>S</td>\n",
       "    </tr>\n",
       "    <tr>\n",
       "      <th>3</th>\n",
       "      <td>4</td>\n",
       "      <td>1</td>\n",
       "      <td>1</td>\n",
       "      <td>Futrelle, Mrs. Jacques Heath (Lily May Peel)</td>\n",
       "      <td>female</td>\n",
       "      <td>35.0</td>\n",
       "      <td>1</td>\n",
       "      <td>0</td>\n",
       "      <td>113803</td>\n",
       "      <td>53.1000</td>\n",
       "      <td>C123</td>\n",
       "      <td>S</td>\n",
       "    </tr>\n",
       "    <tr>\n",
       "      <th>4</th>\n",
       "      <td>5</td>\n",
       "      <td>0</td>\n",
       "      <td>3</td>\n",
       "      <td>Allen, Mr. William Henry</td>\n",
       "      <td>male</td>\n",
       "      <td>35.0</td>\n",
       "      <td>0</td>\n",
       "      <td>0</td>\n",
       "      <td>373450</td>\n",
       "      <td>8.0500</td>\n",
       "      <td>NaN</td>\n",
       "      <td>S</td>\n",
       "    </tr>\n",
       "  </tbody>\n",
       "</table>\n",
       "</div>"
      ],
      "text/plain": [
       "   PassengerId  Survived  Pclass  \\\n",
       "0            1         0       3   \n",
       "1            2         1       1   \n",
       "2            3         1       3   \n",
       "3            4         1       1   \n",
       "4            5         0       3   \n",
       "\n",
       "                                                Name     Sex   Age  SibSp  \\\n",
       "0                            Braund, Mr. Owen Harris    male  22.0      1   \n",
       "1  Cumings, Mrs. John Bradley (Florence Briggs Th...  female  38.0      1   \n",
       "2                             Heikkinen, Miss. Laina  female  26.0      0   \n",
       "3       Futrelle, Mrs. Jacques Heath (Lily May Peel)  female  35.0      1   \n",
       "4                           Allen, Mr. William Henry    male  35.0      0   \n",
       "\n",
       "   Parch            Ticket     Fare Cabin Embarked  \n",
       "0      0         A/5 21171   7.2500   NaN        S  \n",
       "1      0          PC 17599  71.2833   C85        C  \n",
       "2      0  STON/O2. 3101282   7.9250   NaN        S  \n",
       "3      0            113803  53.1000  C123        S  \n",
       "4      0            373450   8.0500   NaN        S  "
      ]
     },
     "execution_count": 2,
     "metadata": {},
     "output_type": "execute_result"
    }
   ],
   "source": [
    "import pandas as pd\n",
    "import numpy as np\n",
    "import matplotlib.pyplot as plt\n",
    "%matplotlib inline\n",
    "\n",
    "td = pd.read_csv('titanic-data.csv')\n",
    "td.head()"
   ]
  },
  {
   "cell_type": "markdown",
   "metadata": {},
   "source": [
    "# 问题1：船上乘客的生还率和哪些因素密切相关？"
   ]
  },
  {
   "cell_type": "markdown",
   "metadata": {},
   "source": [
    "## 数据清理：\n",
    "\n",
    "经过观察数据，发现跟问题密切相关的列（Survived）比较规整，没有非法值和空值。其他列的数据出了极个别cell有空值外，整体也是比较规整的。所以这里没有做单独的数据清洗操作，只是在针对各列做统计计算前，会使用dropna来去除空值，而且这个清洗操作会封装在统一调用的函数中。\n",
    "\n",
    "## 公共计算逻辑抽象\n",
    "下面构造了两个函数，这两个函数后续都有频繁的调用\n",
    "\n",
    "* check_diff：在特定过滤条件下，计算指定列的各个值之间的占比\n",
    "* check_hist：在特定过滤条件下，绘制指定列的的直方图\n",
    "\n",
    "***\n",
    "\n",
    "### *先看看生还率和性别之间的关系*\n",
    "\n",
    "从下面的数据可以看出男性幸存者的比例明显偏小 男性人数占到了所有乘客的64.8%，但在幸存者中男性只占比31.9%"
   ]
  },
  {
   "cell_type": "code",
   "execution_count": 18,
   "metadata": {
    "scrolled": true
   },
   "outputs": [
    {
     "name": "stdout",
     "output_type": "stream",
     "text": [
      "男性占比: 0.647587 ; 女性占比: 0.352413\n",
      "不在: 0.616162 ; 幸存: 0.383838\n",
      "幸存者中男性占比: 0.318713 ; 幸存者中女性占比: 0.681287\n"
     ]
    }
   ],
   "source": [
    "def check_diff(df, filter_series, col_name, kv):\n",
    "    df2 = df\n",
    "    if filter_series is not None:\n",
    "        df2 = df[filter_series]\n",
    "    one_col = df2[col_name]\n",
    "    total_count = one_col.size\n",
    "    msgs = []\n",
    "    for key in kv:\n",
    "        percent = 1.0*one_col[one_col==key].size / total_count\n",
    "        msgs.append('%s: %f'%(kv[key], percent))\n",
    "    print \" ; \".join(msgs)\n",
    "\n",
    "check_diff(td, None, 'Sex', {'male':'男性占比', 'female':'女性占比'})\n",
    "check_diff(td, None, 'Survived', {0:'不在', 1:'幸存'})\n",
    "check_diff(td, td.Survived==1, 'Sex', {'male':'幸存者中男性占比', 'female':'幸存者中女性占比'})"
   ]
  },
  {
   "cell_type": "markdown",
   "metadata": {},
   "source": [
    "### *看一下生还率和年龄之间的关系*\n",
    "\n",
    "从下面叠加的直方图中，可以看出只有0～8岁年龄段的乘客生还比例明显高于其他年龄段，除此之外的各年龄段生还比例没有显著差别。"
   ]
  },
  {
   "cell_type": "code",
   "execution_count": 26,
   "metadata": {},
   "outputs": [
    {
     "data": {
      "image/png": "[encoded data removed]",
      "text/plain": [
       "<matplotlib.figure.Figure at 0x1186e6b10>"
      ]
     },
     "metadata": {},
     "output_type": "display_data"
    }
   ],
   "source": [
    "def check_hist(df, filter_series, col_name, bin_size=None):\n",
    "    df2 = df\n",
    "    if filter_series is not None:\n",
    "        df2 = df[filter_series]\n",
    "    if bin_size is not None:\n",
    "        plt.hist(df2[col_name].dropna(), bins=bin_size)\n",
    "    else:\n",
    "        plt.hist(df2[col_name].dropna())\n",
    "            \n",
    "\n",
    "check_hist(td, None, \"Age\")\n",
    "check_hist(td, td.Survived==1, \"Age\")\n",
    "plt.ylabel(\"head count\")\n",
    "plt.xlabel(\"range of age\")\n",
    "plt.show()"
   ]
  },
  {
   "cell_type": "markdown",
   "metadata": {},
   "source": [
    "### *看一下生还率和pclass（舱位等级）的关系*\n",
    "\n",
    "从下面的直方图中可以看出，1等舱到3等舱，生还比例逐渐在减小。所以高等级舱位的乘客的生还概率明显比较大。"
   ]
  },
  {
   "cell_type": "code",
   "execution_count": 27,
   "metadata": {},
   "outputs": [
    {
     "data": {
      "image/png": "[encoded data removed]",
      "text/plain": [
       "<matplotlib.figure.Figure at 0x1185f9850>"
      ]
     },
     "metadata": {},
     "output_type": "display_data"
    }
   ],
   "source": [
    "check_hist(td, None, \"Pclass\")\n",
    "check_hist(td, td.Survived==1, \"Pclass\")\n",
    "plt.ylabel(\"head count\")\n",
    "plt.xlabel(\"Pclass\")\n",
    "plt.show()"
   ]
  },
  {
   "cell_type": "markdown",
   "metadata": {},
   "source": [
    "### *看一下生还率和SibSp（同船兄弟姐妹或配偶个数）之间的关系*\n",
    "\n",
    "（这里使用了上面的函数check_hist）\n",
    "\n",
    "全体乘客和生还乘客的SibSp个数分布趋势相近，因此推测SibSp和是否生还关系不大"
   ]
  },
  {
   "cell_type": "code",
   "execution_count": 29,
   "metadata": {},
   "outputs": [
    {
     "data": {
      "image/png": "[encoded data removed]",
      "text/plain": [
       "<matplotlib.figure.Figure at 0x117d94f90>"
      ]
     },
     "metadata": {},
     "output_type": "display_data"
    }
   ],
   "source": [
    "check_hist(td, None, \"SibSp\")\n",
    "check_hist(td, td.Survived==1, \"SibSp\")\n",
    "plt.ylabel(\"head count\")\n",
    "plt.xlabel(\"SibSp count\")\n",
    "plt.show()"
   ]
  },
  {
   "cell_type": "markdown",
   "metadata": {},
   "source": [
    "### *看一下生还率和parch（同船父母或子女个数）之间的关系*\n",
    "\n",
    "全体乘客和生还乘客的Parch个数分布趋势相近，因此推测Parch和是否生还关系不大"
   ]
  },
  {
   "cell_type": "code",
   "execution_count": 14,
   "metadata": {},
   "outputs": [
    {
     "data": {
      "image/png": "[encoded data removed]",
      "text/plain": [
       "<matplotlib.figure.Figure at 0x117d94d90>"
      ]
     },
     "metadata": {},
     "output_type": "display_data"
    }
   ],
   "source": [
    "check_hist(td, None, \"Parch\")\n",
    "check_hist(td, td.Survived==1, \"Parch\")\n",
    "plt.ylabel(\"head count\")\n",
    "plt.xlabel(\"Parch count\")\n",
    "plt.show()"
   ]
  },
  {
   "cell_type": "markdown",
   "metadata": {},
   "source": [
    "### *看一下生还率和Parch与SibSp综合起来是否相关*\n",
    "\n",
    "全体乘客和生还乘客的分布依然相近，所以Parch和SibSp综合起来看也和是否生还关系不大"
   ]
  },
  {
   "cell_type": "code",
   "execution_count": 15,
   "metadata": {},
   "outputs": [
    {
     "data": {
      "image/png": "[encoded data removed]",
      "text/plain": [
       "<matplotlib.figure.Figure at 0x11836a690>"
      ]
     },
     "metadata": {},
     "output_type": "display_data"
    }
   ],
   "source": [
    "#增加一列'ParchPlusSibSp'，反映'Parch'和'SibSp'之和\n",
    "td['ParchPlusSibSp'] = td['Parch']+td['SibSp']\n",
    "check_hist(td, None, \"ParchPlusSibSp\")\n",
    "check_hist(td, td.Survived==1, \"ParchPlusSibSp\")\n",
    "plt.ylabel(\"head count\")\n",
    "plt.xlabel(\"Parch + SibSp count\")\n",
    "plt.show()"
   ]
  },
  {
   "cell_type": "markdown",
   "metadata": {},
   "source": [
    "\n",
    "***"
   ]
  },
  {
   "cell_type": "markdown",
   "metadata": {},
   "source": [
    "# 结论\n",
    "## 综上，可以得出结论，生还概率跟性别、舱位等级有着显著的相关性；另外，幼龄段（0～8岁）的乘客有着明显较高的生还概率\n",
    "\n",
    "为了进一步验证结论，下面代码计算出了1，2，3等舱的男、女乘客总数和生还比例，这里把乘客总数列出来有助于观察会不会由于样本总数过少，造成比例计算失真。\n",
    "\n",
    "从这组数字可以看出\n",
    ">* 1，2等舱的女乘客的生还比例非常高（96.8%，92.1%），且1等舱高于2等舱\n",
    "* 1，2等舱女乘客的生还比例显著高于3等舱女乘客（50%）\n",
    "* 1，2，3等舱男乘客的生还比例同女乘客相比都比较低\n",
    "* 只是1等舱男乘客的生还比例（36.9%）比较显著高于其他舱位的男乘客"
   ]
  },
  {
   "cell_type": "code",
   "execution_count": 35,
   "metadata": {},
   "outputs": [
    {
     "name": "stdout",
     "output_type": "stream",
     "text": [
      "1等舱的female乘客总数：94\n",
      "不在: 0.031915 ; 幸存: 0.968085\n",
      "**************************************************\n",
      "2等舱的female乘客总数：76\n",
      "不在: 0.078947 ; 幸存: 0.921053\n",
      "**************************************************\n",
      "3等舱的female乘客总数：144\n",
      "不在: 0.500000 ; 幸存: 0.500000\n",
      "**************************************************\n",
      "\n",
      "\n",
      "\n",
      "1等舱的male乘客总数：122\n",
      "不在: 0.631148 ; 幸存: 0.368852\n",
      "**************************************************\n",
      "2等舱的male乘客总数：108\n",
      "不在: 0.842593 ; 幸存: 0.157407\n",
      "**************************************************\n",
      "3等舱的male乘客总数：347\n",
      "不在: 0.864553 ; 幸存: 0.135447\n",
      "**************************************************\n",
      "\n",
      "\n",
      "\n"
     ]
    }
   ],
   "source": [
    "for sex in ('female', 'male'):\n",
    "    for pclass in range(1,4):\n",
    "        filter = (td['Pclass']==pclass) & (td['Sex']==sex)\n",
    "        print \"%d等舱的%s乘客总数：%d\" % (pclass, sex, td[filter].shape[0])\n",
    "        check_diff(td, filter, 'Survived', {0:'不在', 1:'幸存'})\n",
    "        print \"*\"*50\n",
    "    print \"\\n\"*2"
   ]
  },
  {
   "cell_type": "markdown",
   "metadata": {},
   "source": [
    "## 以上结论只是根据项目提供的单一数据表计算观察得出，这个表中的数据只有较少的维度，很多其他可能会影响生还的因素没有反映出来。因此，这只能作为一个暂时性的结论，更全面的结论需要基于更丰富的数据才能得出。"
   ]
  },
  {
   "cell_type": "markdown",
   "metadata": {},
   "source": [
    "# 问题2: 船票定价的影响因素\n",
    "## 数据清洗\n",
    "\n",
    "去除数据列Fare中的负值和零值"
   ]
  },
  {
   "cell_type": "code",
   "execution_count": 8,
   "metadata": {},
   "outputs": [
    {
     "name": "stdout",
     "output_type": "stream",
     "text": [
      "(891, 12) (876, 12)\n"
     ]
    }
   ],
   "source": [
    "td2 = td[td['Fare']>0]\n",
    "\n",
    "print td.shape, td2.shape"
   ]
  },
  {
   "cell_type": "code",
   "execution_count": null,
   "metadata": {
    "collapsed": true
   },
   "outputs": [],
   "source": []
  }
 ],
 "metadata": {
  "kernelspec": {
   "display_name": "Python 2",
   "language": "python",
   "name": "python2"
  },
  "language_info": {
   "codemirror_mode": {
    "name": "ipython",
    "version": 2
   },
   "file_extension": ".py",
   "mimetype": "text/x-python",
   "name": "python",
   "nbconvert_exporter": "python",
   "pygments_lexer": "ipython2",
   "version": "2.7.14"
  }
 },
 "nbformat": 4,
 "nbformat_minor": 2
}
