{
 "cells": [
  {
   "cell_type": "code",
   "execution_count": 1,
   "metadata": {
    "scrolled": true
   },
   "outputs": [
    {
     "data": {
      "text/html": [
       "<div>\n",
       "<style>\n",
       "    .dataframe thead tr:only-child th {\n",
       "        text-align: right;\n",
       "    }\n",
       "\n",
       "    .dataframe thead th {\n",
       "        text-align: left;\n",
       "    }\n",
       "\n",
       "    .dataframe tbody tr th {\n",
       "        vertical-align: top;\n",
       "    }\n",
       "</style>\n",
       "<table border=\"1\" class=\"dataframe\">\n",
       "  <thead>\n",
       "    <tr style=\"text-align: right;\">\n",
       "      <th></th>\n",
       "      <th>PassengerId</th>\n",
       "      <th>Survived</th>\n",
       "      <th>Pclass</th>\n",
       "      <th>Name</th>\n",
       "      <th>Sex</th>\n",
       "      <th>Age</th>\n",
       "      <th>SibSp</th>\n",
       "      <th>Parch</th>\n",
       "      <th>Ticket</th>\n",
       "      <th>Fare</th>\n",
       "      <th>Cabin</th>\n",
       "      <th>Embarked</th>\n",
       "    </tr>\n",
       "  </thead>\n",
       "  <tbody>\n",
       "    <tr>\n",
       "      <th>0</th>\n",
       "      <td>1</td>\n",
       "      <td>0</td>\n",
       "      <td>3</td>\n",
       "      <td>Braund, Mr. Owen Harris</td>\n",
       "      <td>male</td>\n",
       "      <td>22.0</td>\n",
       "      <td>1</td>\n",
       "      <td>0</td>\n",
       "      <td>A/5 21171</td>\n",
       "      <td>7.2500</td>\n",
       "      <td>NaN</td>\n",
       "      <td>S</td>\n",
       "    </tr>\n",
       "    <tr>\n",
       "      <th>1</th>\n",
       "      <td>2</td>\n",
       "      <td>1</td>\n",
       "      <td>1</td>\n",
       "      <td>Cumings, Mrs. John Bradley (Florence Briggs Th...</td>\n",
       "      <td>female</td>\n",
       "      <td>38.0</td>\n",
       "      <td>1</td>\n",
       "      <td>0</td>\n",
       "      <td>PC 17599</td>\n",
       "      <td>71.2833</td>\n",
       "      <td>C85</td>\n",
       "      <td>C</td>\n",
       "    </tr>\n",
       "    <tr>\n",
       "      <th>2</th>\n",
       "      <td>3</td>\n",
       "      <td>1</td>\n",
       "      <td>3</td>\n",
       "      <td>Heikkinen, Miss. Laina</td>\n",
       "      <td>female</td>\n",
       "      <td>26.0</td>\n",
       "      <td>0</td>\n",
       "      <td>0</td>\n",
       "      <td>STON/O2. 3101282</td>\n",
       "      <td>7.9250</td>\n",
       "      <td>NaN</td>\n",
       "      <td>S</td>\n",
       "    </tr>\n",
       "    <tr>\n",
       "      <th>3</th>\n",
       "      <td>4</td>\n",
       "      <td>1</td>\n",
       "      <td>1</td>\n",
       "      <td>Futrelle, Mrs. Jacques Heath (Lily May Peel)</td>\n",
       "      <td>female</td>\n",
       "      <td>35.0</td>\n",
       "      <td>1</td>\n",
       "      <td>0</td>\n",
       "      <td>113803</td>\n",
       "      <td>53.1000</td>\n",
       "      <td>C123</td>\n",
       "      <td>S</td>\n",
       "    </tr>\n",
       "    <tr>\n",
       "      <th>4</th>\n",
       "      <td>5</td>\n",
       "      <td>0</td>\n",
       "      <td>3</td>\n",
       "      <td>Allen, Mr. William Henry</td>\n",
       "      <td>male</td>\n",
       "      <td>35.0</td>\n",
       "      <td>0</td>\n",
       "      <td>0</td>\n",
       "      <td>373450</td>\n",
       "      <td>8.0500</td>\n",
       "      <td>NaN</td>\n",
       "      <td>S</td>\n",
       "    </tr>\n",
       "  </tbody>\n",
       "</table>\n",
       "</div>"
      ],
      "text/plain": [
       "   PassengerId  Survived  Pclass  \\\n",
       "0            1         0       3   \n",
       "1            2         1       1   \n",
       "2            3         1       3   \n",
       "3            4         1       1   \n",
       "4            5         0       3   \n",
       "\n",
       "                                                Name     Sex   Age  SibSp  \\\n",
       "0                            Braund, Mr. Owen Harris    male  22.0      1   \n",
       "1  Cumings, Mrs. John Bradley (Florence Briggs Th...  female  38.0      1   \n",
       "2                             Heikkinen, Miss. Laina  female  26.0      0   \n",
       "3       Futrelle, Mrs. Jacques Heath (Lily May Peel)  female  35.0      1   \n",
       "4                           Allen, Mr. William Henry    male  35.0      0   \n",
       "\n",
       "   Parch            Ticket     Fare Cabin Embarked  \n",
       "0      0         A/5 21171   7.2500   NaN        S  \n",
       "1      0          PC 17599  71.2833   C85        C  \n",
       "2      0  STON/O2. 3101282   7.9250   NaN        S  \n",
       "3      0            113803  53.1000  C123        S  \n",
       "4      0            373450   8.0500   NaN        S  "
      ]
     },
     "execution_count": 1,
     "metadata": {},
     "output_type": "execute_result"
    }
   ],
   "source": [
    "import pandas as pd\n",
    "import numpy as np\n",
    "import matplotlib.pyplot as plt\n",
    "from numpy import NaN\n",
    "%matplotlib inline\n",
    "\n",
    "td = pd.read_csv('titanic-data.csv')\n",
    "td.head()"
   ]
  },
  {
   "cell_type": "markdown",
   "metadata": {},
   "source": [
    "# 问题1：船上乘客的生还率和哪些因素密切相关？"
   ]
  },
  {
   "cell_type": "markdown",
   "metadata": {},
   "source": [
    "## 数据清理：\n",
    "\n",
    "经过观察数据，发现跟问题密切相关的列（Survived）比较规整，没有非法值和空值。其他列的数据出了极个别cell有空值外，整体也是比较规整的。所以这里没有做单独的数据清洗操作，只是在针对各列做统计计算前，会使用dropna来去除空值，而且这个清洗操作会封装在统一调用的函数中。\n",
    "\n",
    "## 公共计算逻辑抽象\n",
    "下面构造了两个函数，这两个函数后续都有频繁的调用\n",
    "\n",
    "* check_diff：在特定过滤条件下，计算指定列的各个值之间的占比\n",
    "* check_hist：在特定过滤条件下，绘制指定列的的直方图\n",
    "\n",
    "***\n",
    "\n",
    "### *先看看生还率和性别之间的关系*\n",
    "\n",
    "从下面的数据可以看出男性幸存者的比例明显偏小 男性人数占到了所有乘客的64.8%，但在幸存者中男性只占比31.9%"
   ]
  },
  {
   "cell_type": "code",
   "execution_count": 25,
   "metadata": {
    "scrolled": true
   },
   "outputs": [
    {
     "name": "stdout",
     "output_type": "stream",
     "text": [
      "男性占比: 0.647587 ; 女性占比: 0.352413\n",
      "不在: 0.616162 ; 幸存: 0.383838\n",
      "幸存者中男性占比: 0.318713 ; 幸存者中女性占比: 0.681287\n"
     ]
    }
   ],
   "source": [
    "def check_diff(df, filter_series, col_name, kv):\n",
    "    df2 = df\n",
    "    if filter_series is not None:\n",
    "        df2 = df[filter_series]\n",
    "    one_col = df2[col_name]\n",
    "    total_count = one_col.size\n",
    "    msgs = []\n",
    "    for key in kv:\n",
    "        percent = 1.0*one_col[one_col==key].size / total_count\n",
    "        msgs.append('%s: %f'%(kv[key], percent))\n",
    "    print \" ; \".join(msgs)\n",
    "\n",
    "check_diff(td, None, 'Sex', {'male':'男性占比', 'female':'女性占比'})\n",
    "check_diff(td, None, 'Survived', {0:'不在', 1:'幸存'})\n",
    "check_diff(td, td.Survived==1, 'Sex', {'male':'幸存者中男性占比', 'female':'幸存者中女性占比'})"
   ]
  },
  {
   "cell_type": "markdown",
   "metadata": {},
   "source": [
    "### *看一下生还率和年龄之间的关系*\n",
    "\n",
    "从下面叠加的直方图中，可以看出只有0～8岁年龄段的乘客生还比例明显高于其他年龄段，除此之外的各年龄段生还比例没有显著差别。"
   ]
  },
  {
   "cell_type": "code",
   "execution_count": 45,
   "metadata": {},
   "outputs": [
    {
     "data": {
      "image/png": "[encoded data removed]",
      "text/plain": [
       "<matplotlib.figure.Figure at 0x1164f2490>"
      ]
     },
     "metadata": {},
     "output_type": "display_data"
    }
   ],
   "source": [
    "def check_hist(df, filter_series, col_name, bin_size=None):\n",
    "    df2 = df\n",
    "    if filter_series is not None:\n",
    "        df2 = df[filter_series]\n",
    "    if bin_size is not None:\n",
    "        plt.hist(df2[col_name].dropna(), bins=bin_size)\n",
    "    else:\n",
    "        plt.hist(df2[col_name].dropna())\n",
    "            \n",
    "\n",
    "check_hist(td, None, \"Age\")\n",
    "check_hist(td, td.Survived==1, \"Age\")\n",
    "plt.ylabel(\"head count\")\n",
    "plt.xlabel(\"range of age\")\n",
    "plt.legend([\"all passenger\",\"surviver\"])\n",
    "plt.show()"
   ]
  },
  {
   "cell_type": "markdown",
   "metadata": {},
   "source": [
    "### *看一下生还率和pclass（舱位等级）的关系*\n",
    "\n",
    "从下面的直方图中可以看出，1等舱到3等舱，生还比例逐渐在减小。所以高等级舱位的乘客的生还概率明显比较大。"
   ]
  },
  {
   "cell_type": "code",
   "execution_count": 44,
   "metadata": {},
   "outputs": [
    {
     "data": {
      "image/png": "[encoded data removed]",
      "text/plain": [
       "<matplotlib.figure.Figure at 0x1162a1910>"
      ]
     },
     "metadata": {},
     "output_type": "display_data"
    }
   ],
   "source": [
    "check_hist(td, None, \"Pclass\")\n",
    "check_hist(td, td.Survived==1, \"Pclass\")\n",
    "plt.ylabel(\"head count\")\n",
    "plt.xlabel(\"Pclass\")\n",
    "plt.legend([\"all passenger\",\"surviver\"])\n",
    "plt.show()"
   ]
  },
  {
   "cell_type": "markdown",
   "metadata": {},
   "source": [
    "### *看一下生还率和SibSp（同船兄弟姐妹或配偶个数）之间的关系*\n",
    "\n",
    "（这里使用了上面的函数check_hist）\n",
    "\n",
    "全体乘客和生还乘客的SibSp个数分布趋势相近，因此推测SibSp和是否生还关系不大"
   ]
  },
  {
   "cell_type": "code",
   "execution_count": 43,
   "metadata": {},
   "outputs": [
    {
     "data": {
      "image/png": "[encoded data removed]",
      "text/plain": [
       "<matplotlib.figure.Figure at 0x11522f510>"
      ]
     },
     "metadata": {},
     "output_type": "display_data"
    }
   ],
   "source": [
    "# check_hist(td, None, \"SibSp\",10)\n",
    "# check_hist(td, td.Survived==1, \"SibSp\",10)\n",
    "\n",
    "tds = td[td.Survived==1]\n",
    "\n",
    "data = [td.SibSp.dropna(), tds.SibSp.dropna()]\n",
    "plt.hist(data)\n",
    "plt.ylabel(\"head count\")\n",
    "plt.xlabel(\"SibSp count\")\n",
    "plt.legend([\"all passenger\",\"surviver\"])\n",
    "plt.show()"
   ]
  },
  {
   "cell_type": "markdown",
   "metadata": {},
   "source": [
    "### *看一下生还率和parch（同船父母或子女个数）之间的关系*\n",
    "\n",
    "全体乘客和生还乘客的Parch个数分布趋势相近，因此推测Parch和是否生还关系不大"
   ]
  },
  {
   "cell_type": "code",
   "execution_count": 46,
   "metadata": {},
   "outputs": [
    {
     "data": {
      "image/png": "[encoded data removed]",
      "text/plain": [
       "<matplotlib.figure.Figure at 0x1163fb090>"
      ]
     },
     "metadata": {},
     "output_type": "display_data"
    }
   ],
   "source": [
    "check_hist(td, None, \"Parch\")\n",
    "check_hist(td, td.Survived==1, \"Parch\")\n",
    "plt.ylabel(\"head count\")\n",
    "plt.xlabel(\"Parch count\")\n",
    "plt.legend([\"all passenger\",\"surviver\"])\n",
    "plt.show()"
   ]
  },
  {
   "cell_type": "markdown",
   "metadata": {},
   "source": [
    "### *看一下生还率和Parch与SibSp综合起来是否相关*\n",
    "\n",
    "全体乘客和生还乘客的分布依然相近，所以Parch和SibSp综合起来看也和是否生还关系不大"
   ]
  },
  {
   "cell_type": "code",
   "execution_count": 47,
   "metadata": {},
   "outputs": [
    {
     "data": {
      "image/png": "[encoded data removed]",
      "text/plain": [
       "<matplotlib.figure.Figure at 0x1163bed50>"
      ]
     },
     "metadata": {},
     "output_type": "display_data"
    }
   ],
   "source": [
    "#增加一列'ParchPlusSibSp'，反映'Parch'和'SibSp'之和\n",
    "td['ParchPlusSibSp'] = td['Parch']+td['SibSp']\n",
    "check_hist(td, None, \"ParchPlusSibSp\")\n",
    "check_hist(td, td.Survived==1, \"ParchPlusSibSp\")\n",
    "plt.ylabel(\"head count\")\n",
    "plt.xlabel(\"Parch + SibSp count\")\n",
    "plt.legend([\"all passenger\",\"surviver\"])\n",
    "plt.show()"
   ]
  },
  {
   "cell_type": "markdown",
   "metadata": {},
   "source": [
    "\n",
    "***"
   ]
  },
  {
   "cell_type": "markdown",
   "metadata": {},
   "source": [
    "# 结论1\n",
    "## 综上，可以得出结论，生还概率跟性别、舱位等级有着显著的相关性；另外，幼龄段（0～8岁）的乘客有着明显较高的生还概率\n",
    "\n",
    "为了进一步验证结论，下面代码计算出了1，2，3等舱的男、女乘客总数和生还比例，这里把乘客总数列出来有助于观察会不会由于样本总数过少，造成比例计算失真。\n",
    "\n",
    "从这组数字可以看出\n",
    ">* 1，2等舱的女乘客的生还比例非常高（96.8%，92.1%），且1等舱高于2等舱\n",
    "* 1，2等舱女乘客的生还比例显著高于3等舱女乘客（50%）\n",
    "* 1，2，3等舱男乘客的生还比例同女乘客相比都比较低\n",
    "* 只是1等舱男乘客的生还比例（36.9%）比较显著高于其他舱位的男乘客"
   ]
  },
  {
   "cell_type": "code",
   "execution_count": 35,
   "metadata": {},
   "outputs": [
    {
     "name": "stdout",
     "output_type": "stream",
     "text": [
      "1等舱的female乘客总数：94\n",
      "不在: 0.031915 ; 幸存: 0.968085\n",
      "**************************************************\n",
      "2等舱的female乘客总数：76\n",
      "不在: 0.078947 ; 幸存: 0.921053\n",
      "**************************************************\n",
      "3等舱的female乘客总数：144\n",
      "不在: 0.500000 ; 幸存: 0.500000\n",
      "**************************************************\n",
      "\n",
      "\n",
      "\n",
      "1等舱的male乘客总数：122\n",
      "不在: 0.631148 ; 幸存: 0.368852\n",
      "**************************************************\n",
      "2等舱的male乘客总数：108\n",
      "不在: 0.842593 ; 幸存: 0.157407\n",
      "**************************************************\n",
      "3等舱的male乘客总数：347\n",
      "不在: 0.864553 ; 幸存: 0.135447\n",
      "**************************************************\n",
      "\n",
      "\n",
      "\n"
     ]
    }
   ],
   "source": [
    "for sex in ('female', 'male'):\n",
    "    for pclass in range(1,4):\n",
    "        filter = (td['Pclass']==pclass) & (td['Sex']==sex)\n",
    "        print \"%d等舱的%s乘客总数：%d\" % (pclass, sex, td[filter].shape[0])\n",
    "        check_diff(td, filter, 'Survived', {0:'不在', 1:'幸存'})\n",
    "        print \"*\"*50\n",
    "    print \"\\n\"*2"
   ]
  },
  {
   "cell_type": "markdown",
   "metadata": {},
   "source": [
    "# 问题2：泰坦尼克号船票的定价策略 （船票价格受哪些主要因素影响）\n",
    "\n",
    "## 数据清理\n",
    "\n",
    "首先去除船票价格（Fare）列的无效值和空值"
   ]
  },
  {
   "cell_type": "code",
   "execution_count": 3,
   "metadata": {},
   "outputs": [
    {
     "name": "stdout",
     "output_type": "stream",
     "text": [
      "(891, 12) (876, 12)\n"
     ]
    }
   ],
   "source": [
    "td2 = td[(td['Fare'] is not None) and (td['Fare']>0)]\n",
    "print td.shape, td2.shape"
   ]
  },
  {
   "cell_type": "markdown",
   "metadata": {
    "collapsed": true
   },
   "source": [
    "根据一般常识，船票价格收舱位等级和行程距离影响最大，这里假设目的地都一样，所以乘客的行程距离由登船地点（\"Embarked\"）。\n",
    "\n",
    "下面看看\"Fare\"和\"Pclass\"、\"Embarked\"之间的关系，从打印的df数据表中可以看出：\n",
    "* Pclass级别高的船票价格明显高于级别低的，但是同一Pclass内部价格差异很大，应该是跟别的变量相关\n",
    "* Embarked为“C”和“Q”的纪录数据，在一个Pclass为2和为1时，数量较少，统计意义可能不大\n",
    "* Embarked为“S”的纪录数量在所有Pclass中均有较大数量，所以下面主要考察Embarked为“S”的船票价格"
   ]
  },
  {
   "cell_type": "code",
   "execution_count": 4,
   "metadata": {},
   "outputs": [
    {
     "data": {
      "text/html": [
       "<div>\n",
       "<style>\n",
       "    .dataframe thead tr:only-child th {\n",
       "        text-align: right;\n",
       "    }\n",
       "\n",
       "    .dataframe thead th {\n",
       "        text-align: left;\n",
       "    }\n",
       "\n",
       "    .dataframe tbody tr th {\n",
       "        vertical-align: top;\n",
       "    }\n",
       "</style>\n",
       "<table border=\"1\" class=\"dataframe\">\n",
       "  <thead>\n",
       "    <tr style=\"text-align: right;\">\n",
       "      <th></th>\n",
       "      <th></th>\n",
       "      <th>mean</th>\n",
       "      <th>max</th>\n",
       "      <th>min</th>\n",
       "      <th>count</th>\n",
       "    </tr>\n",
       "    <tr>\n",
       "      <th>Pclass</th>\n",
       "      <th>Embarked</th>\n",
       "      <th></th>\n",
       "      <th></th>\n",
       "      <th></th>\n",
       "      <th></th>\n",
       "    </tr>\n",
       "  </thead>\n",
       "  <tbody>\n",
       "    <tr>\n",
       "      <th rowspan=\"3\" valign=\"top\">1</th>\n",
       "      <th>C</th>\n",
       "      <td>104.718529</td>\n",
       "      <td>512.3292</td>\n",
       "      <td>26.5500</td>\n",
       "      <td>85</td>\n",
       "    </tr>\n",
       "    <tr>\n",
       "      <th>Q</th>\n",
       "      <td>90.000000</td>\n",
       "      <td>90.0000</td>\n",
       "      <td>90.0000</td>\n",
       "      <td>2</td>\n",
       "    </tr>\n",
       "    <tr>\n",
       "      <th>S</th>\n",
       "      <td>73.248668</td>\n",
       "      <td>263.0000</td>\n",
       "      <td>5.0000</td>\n",
       "      <td>122</td>\n",
       "    </tr>\n",
       "    <tr>\n",
       "      <th rowspan=\"3\" valign=\"top\">2</th>\n",
       "      <th>C</th>\n",
       "      <td>25.358335</td>\n",
       "      <td>41.5792</td>\n",
       "      <td>12.0000</td>\n",
       "      <td>17</td>\n",
       "    </tr>\n",
       "    <tr>\n",
       "      <th>Q</th>\n",
       "      <td>12.350000</td>\n",
       "      <td>12.3500</td>\n",
       "      <td>12.3500</td>\n",
       "      <td>3</td>\n",
       "    </tr>\n",
       "    <tr>\n",
       "      <th>S</th>\n",
       "      <td>21.099367</td>\n",
       "      <td>73.5000</td>\n",
       "      <td>10.5000</td>\n",
       "      <td>158</td>\n",
       "    </tr>\n",
       "    <tr>\n",
       "      <th rowspan=\"3\" valign=\"top\">3</th>\n",
       "      <th>C</th>\n",
       "      <td>11.214083</td>\n",
       "      <td>22.3583</td>\n",
       "      <td>4.0125</td>\n",
       "      <td>66</td>\n",
       "    </tr>\n",
       "    <tr>\n",
       "      <th>Q</th>\n",
       "      <td>11.183393</td>\n",
       "      <td>29.1250</td>\n",
       "      <td>6.7500</td>\n",
       "      <td>72</td>\n",
       "    </tr>\n",
       "    <tr>\n",
       "      <th>S</th>\n",
       "      <td>14.811923</td>\n",
       "      <td>69.5500</td>\n",
       "      <td>6.2375</td>\n",
       "      <td>349</td>\n",
       "    </tr>\n",
       "  </tbody>\n",
       "</table>\n",
       "</div>"
      ],
      "text/plain": [
       "                       mean       max      min  count\n",
       "Pclass Embarked                                      \n",
       "1      C         104.718529  512.3292  26.5500     85\n",
       "       Q          90.000000   90.0000  90.0000      2\n",
       "       S          73.248668  263.0000   5.0000    122\n",
       "2      C          25.358335   41.5792  12.0000     17\n",
       "       Q          12.350000   12.3500  12.3500      3\n",
       "       S          21.099367   73.5000  10.5000    158\n",
       "3      C          11.214083   22.3583   4.0125     66\n",
       "       Q          11.183393   29.1250   6.7500     72\n",
       "       S          14.811923   69.5500   6.2375    349"
      ]
     },
     "execution_count": 4,
     "metadata": {},
     "output_type": "execute_result"
    }
   ],
   "source": [
    "grouped_fare = td2.groupby(['Pclass', 'Embarked'])['Fare']\n",
    "df = pd.DataFrame()\n",
    "df['mean'] = grouped_fare.mean()\n",
    "df['max'] = grouped_fare.max()\n",
    "df['min'] = grouped_fare.min()\n",
    "df['count'] = grouped_fare.count()\n",
    "df"
   ]
  },
  {
   "cell_type": "markdown",
   "metadata": {},
   "source": [
    "从下面的散点图可以看出：\n",
    "* 票价跟年龄之间没有太大关系\n",
    "* 船仓等级越高，票价波动幅度越大"
   ]
  },
  {
   "cell_type": "code",
   "execution_count": 16,
   "metadata": {},
   "outputs": [
    {
     "data": {
      "text/plain": [
       "<matplotlib.legend.Legend at 0x1155b4c10>"
      ]
     },
     "execution_count": 16,
     "metadata": {},
     "output_type": "execute_result"
    },
    {
     "data": {
      "image/png": "[encoded data removed]",
      "text/plain": [
       "<matplotlib.figure.Figure at 0x1155b4750>"
      ]
     },
     "metadata": {},
     "output_type": "display_data"
    }
   ],
   "source": [
    "td2 = td2[td2['Embarked']=='S']\n",
    "\n",
    "def draw_scatter(df, x_col, y_col):\n",
    "    plt.scatter(df[x_col], df[y_col])\n",
    "    \n",
    "draw_scatter(td2[td2['Pclass']==1], 'Age', 'Fare')\n",
    "draw_scatter(td2[td2['Pclass']==2], 'Age', 'Fare')\n",
    "draw_scatter(td2[td2['Pclass']==3], 'Age', 'Fare')\n",
    "plt.xlabel(\"Age\")\n",
    "plt.ylabel(\"Fare\")\n",
    "plt.legend(['Pclass==1','Pclass==2','Pclass==3'])\n"
   ]
  },
  {
   "cell_type": "markdown",
   "metadata": {},
   "source": [
    "下面看看票价随同行乘客数量（SibSp＋Parch）之间的关系\n",
    "\n",
    "从下面的散点图很惊讶的发现，在各个仓位级别船票价格和同行人员数量都没有太大关系！"
   ]
  },
  {
   "cell_type": "code",
   "execution_count": 18,
   "metadata": {},
   "outputs": [
    {
     "data": {
      "text/plain": [
       "<matplotlib.legend.Legend at 0x1156bc750>"
      ]
     },
     "execution_count": 18,
     "metadata": {},
     "output_type": "execute_result"
    },
    {
     "data": {
      "image/png": "[encoded data removed]",
      "text/plain": [
       "<matplotlib.figure.Figure at 0x1156bccd0>"
      ]
     },
     "metadata": {},
     "output_type": "display_data"
    }
   ],
   "source": [
    "td2['SibSpPlusParch'] = td2['SibSp']+td2['Parch']\n",
    "draw_scatter(td2[td2['Pclass']==1], 'SibSpPlusParch', 'Fare')\n",
    "draw_scatter(td2[td2['Pclass']==2], 'SibSpPlusParch', 'Fare')\n",
    "draw_scatter(td2[td2['Pclass']==3], 'SibSpPlusParch', 'Fare')\n",
    "plt.xlabel('SibSpPlusParch')\n",
    "plt.ylabel('Fare')\n",
    "plt.legend(['Pclass==1','Pclass==2','Pclass==3'])"
   ]
  },
  {
   "cell_type": "markdown",
   "metadata": {},
   "source": [
    "# 结论2\n",
    "\n",
    "* 泰坦尼克船票价格随船仓等级的升高而显著提高\n",
    "* 船票价格在高等级舱位上的波动明显大于低等级舱位\n",
    "* 船票价格并没有随着同行人数的提高的有所降低，这可能跟泰坦尼克号的首次航行，船票供小于求有关系"
   ]
  },
  {
   "cell_type": "markdown",
   "metadata": {},
   "source": [
    "***\n",
    "## 以上两个结论只是根据项目提供的单一数据表计算观察得出，这个表中的数据只有较少的维度，很多其他可能会影响生还的因素和影响船票价格没有反映出来。因此，这只能作为一个暂时性的结论，更全面的结论需要基于更丰富的数据才能得出。"
   ]
  }
 ],
 "metadata": {
  "kernelspec": {
   "display_name": "Python 2",
   "language": "python",
   "name": "python2"
  },
  "language_info": {
   "codemirror_mode": {
    "name": "ipython",
    "version": 2
   },
   "file_extension": ".py",
   "mimetype": "text/x-python",
   "name": "python",
   "nbconvert_exporter": "python",
   "pygments_lexer": "ipython2",
   "version": "2.7.14"
  }
 },
 "nbformat": 4,
 "nbformat_minor": 2
}
